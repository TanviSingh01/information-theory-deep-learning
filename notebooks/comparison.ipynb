{
 "cells": [
  {
   "cell_type": "markdown",
   "metadata": {},
   "source": [
    "This notebook compares most of the objective functions mentioned in the recent paper at NEurIPS 2018 [On variational lower bounds of mutual information](http://bayesiandeeplearning.org/2018/papers/136.pdf) by [Ben Poole](https://cs.stanford.edu/~poole/) et al. to calculate Mutual Information using an implementation in PyTorch."
   ]
  },
  {
   "cell_type": "code",
   "execution_count": 1,
   "metadata": {},
   "outputs": [],
   "source": [
    "import torch\n",
    "from torch.autograd import Variable\n",
    "import torch.nn as nn\n",
    "import torch.nn.functional as F\n",
    "from torch.utils.data import Dataset, DataLoader\n",
    "import numpy as np\n",
    "import matplotlib.pyplot as plt\n",
    "from tqdm import tqdm"
   ]
  },
  {
   "cell_type": "code",
   "execution_count": 2,
   "metadata": {},
   "outputs": [],
   "source": [
    "# data\n",
    "np.random.seed(1234)\n",
    "var = 0.2\n",
    "def func(x):\n",
    "    return x\n",
    "\n",
    "def gen_x():\n",
    "    return np.sign(np.random.normal(0.,1.,[data_size,1]))\n",
    "\n",
    "def gen_y(x):\n",
    "    return func(x)+np.random.normal(0.,np.sqrt(var),[data_size,1])"
   ]
  },
  {
   "cell_type": "code",
   "execution_count": 3,
   "metadata": {},
   "outputs": [],
   "source": [
    "np.random.seed(1234)\n",
    "data_size = 1000000\n",
    "x = gen_x()\n",
    "y = gen_y(x)"
   ]
  },
  {
   "cell_type": "code",
   "execution_count": 4,
   "metadata": {},
   "outputs": [
    {
     "name": "stdout",
     "output_type": "stream",
     "text": [
      "Mutual information calculated through traditional method is: 0.6584537102332939\n"
     ]
    }
   ],
   "source": [
    "x = gen_x()\n",
    "y = gen_y(x)\n",
    "p_y_x = np.exp(-(y - x)**2 / (2 * var))\n",
    "p_y_x_minus = np.exp(-(y + 1)**2 / (2 * var))\n",
    "p_y_x_plus = np.exp(-(y - 1)**2 / (2 * var))\n",
    "mi = np.average(np.log(p_y_x / (0.5 * p_y_x_minus + 0.5 * p_y_x_plus)))\n",
    "#mi = mutual_information(x, y)\n",
    "print(\"Mutual information calculated through traditional method is:\", mi)"
   ]
  },
  {
   "cell_type": "code",
   "execution_count": 5,
   "metadata": {},
   "outputs": [
    {
     "name": "stderr",
     "output_type": "stream",
     "text": [
      "100%|██████████| 500/500 [00:11<00:00, 39.10it/s]\n"
     ]
    }
   ],
   "source": [
    "np.random.seed(1234)\n",
    "H=10\n",
    "n_epoch = 500\n",
    "data_size = 20000\n",
    "\n",
    "class Net(nn.Module):\n",
    "    def __init__(self):\n",
    "        super(Net, self).__init__()\n",
    "        self.fc1 = nn.Linear(1, H)\n",
    "        self.fc2 = nn.Linear(1, H)\n",
    "        self.fc3 = nn.Linear(H, 1)\n",
    "\n",
    "    def forward(self, x, y):\n",
    "        h1 = F.relu(self.fc1(x)+self.fc2(y))\n",
    "        h2 = self.fc3(h1)\n",
    "        return h2    \n",
    "\n",
    "model = Net()\n",
    "optimizer = torch.optim.Adam(model.parameters(), lr=0.01)\n",
    "\n",
    "plot_loss_nwj = []\n",
    "plot_loss_jsd = []\n",
    "plot_loss_mine = []\n",
    "plot_loss_nce = []\n",
    "\n",
    "\n",
    "for epoch in tqdm(range(n_epoch)):\n",
    "    x_sample=gen_x()\n",
    "    y_sample=gen_y(x_sample)\n",
    "    y_shuffle=np.random.permutation(y_sample)\n",
    "    \n",
    "    x_sample = Variable(torch.from_numpy(x_sample).type(torch.FloatTensor), requires_grad = True)\n",
    "    y_sample = Variable(torch.from_numpy(y_sample).type(torch.FloatTensor), requires_grad = True)\n",
    "    y_shuffle = Variable(torch.from_numpy(y_shuffle).type(torch.FloatTensor), requires_grad = True)    \n",
    "    \n",
    "    pred_xy = model(x_sample, y_sample)\n",
    "    pred_x_y = model(x_sample, y_shuffle)\n",
    "\n",
    "    # Nguyen Wainwright Jordan (NWJ)\n",
    "    ret_nwj = torch.mean(pred_xy) - (1/2.71828) * torch.mean(torch.exp(pred_x_y))\n",
    "    # Jensen Shannon Divergence (JS) loss\n",
    "    ret_jsd = torch.mean(-torch.log(1 + torch.exp(-pred_xy))) - torch.mean(torch.log(1 + torch.exp(pred_x_y)))\n",
    "    # Mutual Information Neural Estimation (MINE)/ Donsker Varadhan (DV) loss\n",
    "    ret_mine = torch.mean(pred_xy) - torch.log(torch.mean(torch.exp(pred_x_y)))\n",
    "    # Noise Contrastive Estimation(NCE) loss\n",
    "    ret_nce = torch.mean(pred_xy - torch.log(1 + pred_xy + torch.sum(torch.exp(pred_x_y))))\n",
    "    \n",
    "    loss_nwj = - ret_nwj  # maximize\n",
    "    loss_jsd = - ret_jsd\n",
    "    loss_mine = - ret_mine  # maximize\n",
    "    loss_nce = - ret_nce  # maximize\n",
    "    \n",
    "    plot_loss_mine.append(loss_mine.data.numpy())\n",
    "    plot_loss_jsd.append(loss_jsd.data.numpy())\n",
    "    plot_loss_nwj.append(loss_nwj.data.numpy())\n",
    "    plot_loss_nce.append(loss_nce.data.numpy())\n",
    "    \n",
    "    model.zero_grad()\n",
    "    \n",
    "    loss_nwj.backward(retain_graph=True)\n",
    "    loss_jsd.backward(retain_graph=True)\n",
    "    loss_mine.backward(retain_graph=True)\n",
    "    loss_nce.backward(retain_graph=True)\n",
    "    \n",
    "    optimizer.step()"
   ]
  },
  {
   "cell_type": "code",
   "execution_count": 22,
   "metadata": {},
   "outputs": [],
   "source": [
    "plot_x = np.arange(len(plot_loss_mine))\n",
    "plot_y_nwj = np.array(plot_loss_nwj).reshape(-1,)\n",
    "plot_y_jsd = np.array(plot_loss_jsd).reshape(-1,)\n",
    "plot_y_mine = np.array(plot_loss_mine).reshape(-1,)\n",
    "plot_y_nce = np.array(plot_loss_nce).reshape(-1,) - np.log(data_size)"
   ]
  },
  {
   "cell_type": "code",
   "execution_count": 23,
   "metadata": {},
   "outputs": [
    {
     "data": {
      "image/png": "[encoded data removed]",
      "text/plain": [
       "<Figure size 432x288 with 1 Axes>"
      ]
     },
     "metadata": {},
     "output_type": "display_data"
    }
   ],
   "source": [
    "# plotting all together\n",
    "plt.plot(plot_x, -plot_y_nwj)\n",
    "plt.plot(plot_x, -plot_y_jsd, c = \"green\")\n",
    "plt.plot(plot_x, -plot_y_mine, c = \"yellow\")\n",
    "plt.plot(plot_x, -plot_y_nce, c = \"red\")\n",
    "plt.plot(plot_x, mi*np.ones(len(plot_loss_mine)))\n",
    "plt.show()"
   ]
  },
  {
   "cell_type": "code",
   "execution_count": null,
   "metadata": {},
   "outputs": [],
   "source": []
  }
 ],
 "metadata": {
  "kernelspec": {
   "display_name": "Python 3",
   "language": "python",
   "name": "python3"
  },
  "language_info": {
   "codemirror_mode": {
    "name": "ipython",
    "version": 3
   },
   "file_extension": ".py",
   "mimetype": "text/x-python",
   "name": "python",
   "nbconvert_exporter": "python",
   "pygments_lexer": "ipython3",
   "version": "3.6.5"
  }
 },
 "nbformat": 4,
 "nbformat_minor": 2
}
