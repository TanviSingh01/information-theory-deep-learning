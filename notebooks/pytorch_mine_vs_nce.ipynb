{
 "cells": [
  {
   "cell_type": "markdown",
   "metadata": {},
   "source": [
    "The code is adapted from [Masanori Yamada's repository](https://github.com/MasanoriYamada/Mine_pytorch) on MINE implementation."
   ]
  },
  {
   "cell_type": "code",
   "execution_count": 1,
   "metadata": {
    "colab": {},
    "colab_type": "code",
    "id": "BS2h2kglwPa_"
   },
   "outputs": [],
   "source": [
    "import torch\n",
    "from torch.autograd import Variable\n",
    "import torch.nn as nn\n",
    "import torch.nn.functional as F\n",
    "from torch.utils.data import Dataset, DataLoader\n",
    "import numpy as np\n",
    "import matplotlib.pyplot as plt\n",
    "from tqdm import tqdm"
   ]
  },
  {
   "cell_type": "code",
   "execution_count": 2,
   "metadata": {
    "colab": {},
    "colab_type": "code",
    "id": "Ze6Kk6SsQKiE"
   },
   "outputs": [],
   "source": [
    "# data\n",
    "np.random.seed(1234)\n",
    "var = 0.2\n",
    "def func(x):\n",
    "    return x\n",
    "\n",
    "def gen_x():\n",
    "    return np.sign(np.random.normal(0.,1.,[data_size,1]))\n",
    "\n",
    "def gen_y(x):\n",
    "    return func(x)+np.random.normal(0.,np.sqrt(var),[data_size,1])"
   ]
  },
  {
   "cell_type": "code",
   "execution_count": 3,
   "metadata": {},
   "outputs": [],
   "source": [
    "np.random.seed(1234)\n",
    "data_size = 1000000\n",
    "x = gen_x()\n",
    "y = gen_y(x)"
   ]
  },
  {
   "cell_type": "code",
   "execution_count": 4,
   "metadata": {
    "colab": {
     "base_uri": "https://localhost:8080/",
     "height": 34
    },
    "colab_type": "code",
    "id": "C_wM4ty1Qldx",
    "outputId": "2892779e-b4dc-4f29-9858-28afb707d11d"
   },
   "outputs": [
    {
     "name": "stdout",
     "output_type": "stream",
     "text": [
      "Mutual information calculated through traditional method is: 0.6584537102332939\n"
     ]
    }
   ],
   "source": [
    "x = gen_x()\n",
    "y = gen_y(x)\n",
    "p_y_x = np.exp(-(y - x)**2 / (2 * var))\n",
    "p_y_x_minus = np.exp(-(y + 1)**2 / (2 * var))\n",
    "p_y_x_plus = np.exp(-(y - 1)**2 / (2 * var))\n",
    "mi = np.average(np.log(p_y_x / (0.5 * p_y_x_minus + 0.5 * p_y_x_plus)))\n",
    "#mi = mutual_information(x, y)\n",
    "print(\"Mutual information calculated through traditional method is:\", mi)"
   ]
  },
  {
   "cell_type": "code",
   "execution_count": 5,
   "metadata": {},
   "outputs": [
    {
     "name": "stderr",
     "output_type": "stream",
     "text": [
      "100%|██████████| 500/500 [00:07<00:00, 65.44it/s]\n"
     ]
    }
   ],
   "source": [
    "np.random.seed(1234)\n",
    "H=10\n",
    "n_epoch = 500\n",
    "data_size = 20000\n",
    "\n",
    "class Net(nn.Module):\n",
    "    def __init__(self):\n",
    "        super(Net, self).__init__()\n",
    "        self.fc1 = nn.Linear(1, H)\n",
    "        self.fc2 = nn.Linear(1, H)\n",
    "        self.fc3 = nn.Linear(H, 1)\n",
    "\n",
    "    def forward(self, x, y):\n",
    "        h1 = F.relu(self.fc1(x)+self.fc2(y))\n",
    "        h2 = self.fc3(h1)\n",
    "        return h2    \n",
    "\n",
    "model = Net()\n",
    "optimizer = torch.optim.Adam(model.parameters(), lr=0.01)\n",
    "plot_loss_mine = []\n",
    "plot_loss_nce = []\n",
    "for epoch in tqdm(range(n_epoch)):\n",
    "    x_sample=gen_x()\n",
    "    y_sample=gen_y(x_sample)\n",
    "    y_shuffle=np.random.permutation(y_sample)\n",
    "    \n",
    "    x_sample = Variable(torch.from_numpy(x_sample).type(torch.FloatTensor), requires_grad = True)\n",
    "    y_sample = Variable(torch.from_numpy(y_sample).type(torch.FloatTensor), requires_grad = True)\n",
    "    y_shuffle = Variable(torch.from_numpy(y_shuffle).type(torch.FloatTensor), requires_grad = True)    \n",
    "    \n",
    "    pred_xy = model(x_sample, y_sample)\n",
    "    pred_x_y = model(x_sample, y_shuffle)\n",
    "\n",
    "    # Noise Contrastive Estimation(NCE) loss\n",
    "    ret_nce = torch.mean(pred_xy - torch.log(1 + pred_xy + torch.sum(torch.exp(pred_x_y))))\n",
    "    # Mutual Information Neural Estimation (MINE) loss\n",
    "    ret_mine = torch.mean(pred_xy) - torch.log(torch.mean(torch.exp(pred_x_y)))\n",
    "    loss_mine = - ret_mine  # maximize\n",
    "    loss_nce = - ret_nce  # maximize\n",
    "    plot_loss_mine.append(loss_mine.data.numpy())\n",
    "    plot_loss_nce.append(loss_nce.data.numpy())\n",
    "    model.zero_grad()\n",
    "    loss_mine.backward(retain_graph=True)\n",
    "    loss_nce.backward(retain_graph=True)\n",
    "    optimizer.step()"
   ]
  },
  {
   "cell_type": "code",
   "execution_count": 6,
   "metadata": {
    "colab": {},
    "colab_type": "code",
    "id": "0HJFmVYJQ4uf"
   },
   "outputs": [],
   "source": [
    "plot_x = np.arange(len(plot_loss_mine))\n",
    "plot_y_mine = np.array(plot_loss_mine).reshape(-1,)\n",
    "plot_y_nce = np.array(plot_loss_nce).reshape(-1,) - np.log(data_size)"
   ]
  },
  {
   "cell_type": "markdown",
   "metadata": {},
   "source": [
    "Plotting one after the other as the overlap is too sharp!"
   ]
  },
  {
   "cell_type": "code",
   "execution_count": 7,
   "metadata": {
    "colab": {
     "base_uri": "https://localhost:8080/",
     "height": 349
    },
    "colab_type": "code",
    "id": "1-ezg88MRVEH",
    "outputId": "94ee42a7-9e19-4296-eff7-57e5077860c9"
   },
   "outputs": [
    {
     "data": {
      "image/png": "[encoded data removed]",
      "text/plain": [
       "<Figure size 432x288 with 1 Axes>"
      ]
     },
     "metadata": {},
     "output_type": "display_data"
    }
   ],
   "source": [
    "# plotting MI using MINE\n",
    "plt.plot(plot_x, -plot_y_mine)\n",
    "plt.plot(plot_x, mi*np.ones(len(plot_loss_mine)))\n",
    "plt.show()"
   ]
  },
  {
   "cell_type": "code",
   "execution_count": 8,
   "metadata": {},
   "outputs": [
    {
     "data": {
      "image/png": "[encoded data removed]",
      "text/plain": [
       "<Figure size 432x288 with 1 Axes>"
      ]
     },
     "metadata": {},
     "output_type": "display_data"
    }
   ],
   "source": [
    "# plotting MI using NCE\n",
    "plt.plot(plot_x, -plot_y_nce, c = \"red\")\n",
    "plt.plot(plot_x, mi*np.ones(len(plot_loss_mine)))\n",
    "plt.show()"
   ]
  },
  {
   "cell_type": "code",
   "execution_count": 9,
   "metadata": {},
   "outputs": [
    {
     "data": {
      "text/plain": [
       "True"
      ]
     },
     "execution_count": 9,
     "metadata": {},
     "output_type": "execute_result"
    }
   ],
   "source": [
    "np.allclose(plot_y_mine,plot_y_nce, atol=1e-04)"
   ]
  },
  {
   "cell_type": "code",
   "execution_count": 10,
   "metadata": {},
   "outputs": [
    {
     "data": {
      "text/plain": [
       "False"
      ]
     },
     "execution_count": 10,
     "metadata": {},
     "output_type": "execute_result"
    }
   ],
   "source": [
    "np.allclose(plot_y_mine,plot_y_nce, atol=1e-05)"
   ]
  },
  {
   "cell_type": "markdown",
   "metadata": {},
   "source": [
    "We see that the mutual information obtained from both the methods is almost equal and close to 1e-4 tolerance! Therefore, both the methods are consistent."
   ]
  },
  {
   "cell_type": "code",
   "execution_count": null,
   "metadata": {},
   "outputs": [],
   "source": []
  }
 ],
 "metadata": {
  "accelerator": "GPU",
  "colab": {
   "name": "pytorch_mine.ipynb",
   "provenance": [],
   "version": "0.3.2"
  },
  "kernelspec": {
   "display_name": "Python 3",
   "language": "python",
   "name": "python3"
  },
  "language_info": {
   "codemirror_mode": {
    "name": "ipython",
    "version": 3
   },
   "file_extension": ".py",
   "mimetype": "text/x-python",
   "name": "python",
   "nbconvert_exporter": "python",
   "pygments_lexer": "ipython3",
   "version": "3.6.5"
  }
 },
 "nbformat": 4,
 "nbformat_minor": 1
}
