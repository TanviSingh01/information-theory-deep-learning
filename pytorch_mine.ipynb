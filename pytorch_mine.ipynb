{
  "nbformat": 4,
  "nbformat_minor": 0,
  "metadata": {
    "colab": {
      "name": "pytorch_mine.ipynb",
      "version": "0.3.2",
      "provenance": []
    },
    "kernelspec": {
      "name": "python3",
      "display_name": "Python 3"
    },
    "accelerator": "GPU"
  },
  "cells": [
    {
      "metadata": {
        "id": "pUZu5jC7PdQK",
        "colab_type": "code",
        "colab": {}
      },
      "cell_type": "code",
      "source": [
        "# http://pytorch.org/\n",
        "from os.path import exists\n",
        "from wheel.pep425tags import get_abbr_impl, get_impl_ver, get_abi_tag\n",
        "platform = '{}{}-{}'.format(get_abbr_impl(), get_impl_ver(), get_abi_tag())\n",
        "cuda_output = !ldconfig -p|grep cudart.so|sed -e 's/.*\\.\\([0-9]*\\)\\.\\([0-9]*\\)$/cu\\1\\2/'\n",
        "accelerator = cuda_output[0] if exists('/dev/nvidia0') else 'cpu'\n",
        "\n",
        "!pip install -q http://download.pytorch.org/whl/{accelerator}/torch-0.4.1-{platform}-linux_x86_64.whl torchvision"
      ],
      "execution_count": 0,
      "outputs": []
    },
    {
      "metadata": {
        "id": "BS2h2kglwPa_",
        "colab_type": "code",
        "colab": {}
      },
      "cell_type": "code",
      "source": [
        "import torch\n",
        "from torch.autograd import Variable\n",
        "import torch.nn as nn\n",
        "import torch.nn.functional as F\n",
        "from tqdm import tqdm\n",
        "import numpy as np\n",
        "import matplotlib.pyplot as plt"
      ],
      "execution_count": 0,
      "outputs": []
    },
    {
      "metadata": {
        "id": "Ze6Kk6SsQKiE",
        "colab_type": "code",
        "colab": {}
      },
      "cell_type": "code",
      "source": [
        "# data\n",
        "var = 0.2\n",
        "def func(x):\n",
        "    return x\n",
        "\n",
        "def gen_x():\n",
        "    return np.sign(np.random.normal(0.,1.,[data_size,1]))\n",
        "\n",
        "def gen_y(x):\n",
        "    return func(x)+np.random.normal(0.,np.sqrt(var),[data_size,1])"
      ],
      "execution_count": 0,
      "outputs": []
    },
    {
      "metadata": {
        "id": "C_wM4ty1Qldx",
        "colab_type": "code",
        "colab": {
          "base_uri": "https://localhost:8080/",
          "height": 34
        },
        "outputId": "2892779e-b4dc-4f29-9858-28afb707d11d"
      },
      "cell_type": "code",
      "source": [
        "data_size = 1000000\n",
        "x=gen_x()\n",
        "y=gen_y(x)\n",
        "p_y_x=np.exp(-(y-x)**2/(2*var))\n",
        "p_y_x_minus=np.exp(-(y+1)**2/(2*var))\n",
        "p_y_x_plus=np.exp(-(y-1)**2/(2*var))\n",
        "mi=np.average(np.log(p_y_x/(0.5*p_y_x_minus+0.5*p_y_x_plus)))\n",
        "mi"
      ],
      "execution_count": 4,
      "outputs": [
        {
          "output_type": "execute_result",
          "data": {
            "text/plain": [
              "0.6584722429705817"
            ]
          },
          "metadata": {
            "tags": []
          },
          "execution_count": 4
        }
      ]
    },
    {
      "metadata": {
        "id": "Bd60oFUUQm_h",
        "colab_type": "code",
        "colab": {
          "base_uri": "https://localhost:8080/",
          "height": 34
        },
        "outputId": "6dd69593-c974-4458-d6cf-228a91819c24"
      },
      "cell_type": "code",
      "source": [
        "H=10\n",
        "n_epoch = 500\n",
        "data_size = 20000\n",
        "\n",
        "class Net(nn.Module):\n",
        "    def __init__(self):\n",
        "        super(Net, self).__init__()\n",
        "        self.fc1 = nn.Linear(1, H)\n",
        "        self.fc2 = nn.Linear(1, H)\n",
        "        self.fc3 = nn.Linear(H, 1)\n",
        "\n",
        "    def forward(self, x, y):\n",
        "        h1 = F.relu(self.fc1(x)+self.fc2(y))\n",
        "        h2 = self.fc3(h1)\n",
        "        return h2    \n",
        "\n",
        "model = Net()\n",
        "optimizer = torch.optim.Adam(model.parameters(), lr=0.01)\n",
        "plot_loss = []\n",
        "for epoch in tqdm(range(n_epoch)):\n",
        "    x_sample=gen_x()\n",
        "    y_sample=gen_y(x_sample)\n",
        "    y_shuffle=np.random.permutation(y_sample)\n",
        "    \n",
        "    x_sample = Variable(torch.from_numpy(x_sample).type(torch.FloatTensor), requires_grad = True)\n",
        "    y_sample = Variable(torch.from_numpy(y_sample).type(torch.FloatTensor), requires_grad = True)\n",
        "    y_shuffle = Variable(torch.from_numpy(y_shuffle).type(torch.FloatTensor), requires_grad = True)    \n",
        "    \n",
        "    pred_xy = model(x_sample, y_sample)\n",
        "    pred_x_y = model(x_sample, y_shuffle)\n",
        "\n",
        "    ret = torch.mean(pred_xy) - torch.log(torch.mean(torch.exp(pred_x_y)))\n",
        "    loss = - ret  # maximize\n",
        "    plot_loss.append(loss.data.numpy())\n",
        "    model.zero_grad()\n",
        "    loss.backward()\n",
        "    optimizer.step()"
      ],
      "execution_count": 5,
      "outputs": [
        {
          "output_type": "stream",
          "text": [
            "100%|██████████| 500/500 [00:15<00:00, 31.37it/s]\n"
          ],
          "name": "stderr"
        }
      ]
    },
    {
      "metadata": {
        "id": "0HJFmVYJQ4uf",
        "colab_type": "code",
        "colab": {}
      },
      "cell_type": "code",
      "source": [
        "plot_x = np.arange(len(plot_loss))\n",
        "plot_y = np.array(plot_loss).reshape(-1,)"
      ],
      "execution_count": 0,
      "outputs": []
    },
    {
      "metadata": {
        "id": "1-ezg88MRVEH",
        "colab_type": "code",
        "colab": {
          "base_uri": "https://localhost:8080/",
          "height": 349
        },
        "outputId": "94ee42a7-9e19-4296-eff7-57e5077860c9"
      },
      "cell_type": "code",
      "source": [
        "\n",
        "plt.plot(plot_x, -plot_y)\n",
        "plt.plot(plot_x, mi*np.ones(len(plot_loss)))\n",
        "plt.show()"
      ],
      "execution_count": 7,
      "outputs": [
        {
          "output_type": "display_data",
          "data": {
            "image/png": "[encoded data removed]",
            "text/plain": [
              "<matplotlib.figure.Figure at 0x7fdd8a2e1ef0>"
            ]
          },
          "metadata": {
            "tags": []
          }
        }
      ]
    },
    {
      "metadata": {
        "id": "Y9qfiZYqS-0R",
        "colab_type": "code",
        "colab": {}
      },
      "cell_type": "code",
      "source": [
        ""
      ],
      "execution_count": 0,
      "outputs": []
    }
  ]
}